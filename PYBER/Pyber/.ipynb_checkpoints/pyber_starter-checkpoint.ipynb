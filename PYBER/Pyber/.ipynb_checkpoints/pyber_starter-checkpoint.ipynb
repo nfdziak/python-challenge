{
 "cells": [
  {
   "cell_type": "code",
   "execution_count": 267,
   "metadata": {
    "scrolled": true
   },
   "outputs": [
    {
     "data": {
      "text/html": [
       "<div>\n",
       "<style scoped>\n",
       "    .dataframe tbody tr th:only-of-type {\n",
       "        vertical-align: middle;\n",
       "    }\n",
       "\n",
       "    .dataframe tbody tr th {\n",
       "        vertical-align: top;\n",
       "    }\n",
       "\n",
       "    .dataframe thead th {\n",
       "        text-align: right;\n",
       "    }\n",
       "</style>\n",
       "<table border=\"1\" class=\"dataframe\">\n",
       "  <thead>\n",
       "    <tr style=\"text-align: right;\">\n",
       "      <th></th>\n",
       "      <th>city</th>\n",
       "      <th>driver_count</th>\n",
       "      <th>type</th>\n",
       "      <th>date</th>\n",
       "      <th>fare</th>\n",
       "      <th>ride_id</th>\n",
       "    </tr>\n",
       "  </thead>\n",
       "  <tbody>\n",
       "    <tr>\n",
       "      <th>0</th>\n",
       "      <td>Richardfort</td>\n",
       "      <td>38</td>\n",
       "      <td>Urban</td>\n",
       "      <td>2/24/2018 8:40</td>\n",
       "      <td>13.93</td>\n",
       "      <td>5.628545e+12</td>\n",
       "    </tr>\n",
       "    <tr>\n",
       "      <th>1</th>\n",
       "      <td>Richardfort</td>\n",
       "      <td>38</td>\n",
       "      <td>Urban</td>\n",
       "      <td>2/13/2018 12:46</td>\n",
       "      <td>14.00</td>\n",
       "      <td>9.100501e+11</td>\n",
       "    </tr>\n",
       "    <tr>\n",
       "      <th>2</th>\n",
       "      <td>Richardfort</td>\n",
       "      <td>38</td>\n",
       "      <td>Urban</td>\n",
       "      <td>2/16/2018 13:52</td>\n",
       "      <td>17.92</td>\n",
       "      <td>8.206391e+11</td>\n",
       "    </tr>\n",
       "    <tr>\n",
       "      <th>3</th>\n",
       "      <td>Richardfort</td>\n",
       "      <td>38</td>\n",
       "      <td>Urban</td>\n",
       "      <td>2/1/2018 20:18</td>\n",
       "      <td>10.26</td>\n",
       "      <td>9.554936e+12</td>\n",
       "    </tr>\n",
       "    <tr>\n",
       "      <th>4</th>\n",
       "      <td>Richardfort</td>\n",
       "      <td>38</td>\n",
       "      <td>Urban</td>\n",
       "      <td>4/17/2018 2:26</td>\n",
       "      <td>23.00</td>\n",
       "      <td>7.200207e+11</td>\n",
       "    </tr>\n",
       "  </tbody>\n",
       "</table>\n",
       "</div>"
      ],
      "text/plain": [
       "          city  driver_count   type             date   fare       ride_id\n",
       "0  Richardfort            38  Urban   2/24/2018 8:40  13.93  5.628545e+12\n",
       "1  Richardfort            38  Urban  2/13/2018 12:46  14.00  9.100501e+11\n",
       "2  Richardfort            38  Urban  2/16/2018 13:52  17.92  8.206391e+11\n",
       "3  Richardfort            38  Urban   2/1/2018 20:18  10.26  9.554936e+12\n",
       "4  Richardfort            38  Urban   4/17/2018 2:26  23.00  7.200207e+11"
      ]
     },
     "execution_count": 267,
     "metadata": {},
     "output_type": "execute_result"
    }
   ],
   "source": [
    " %matplotlib inline\n",
    "# Dependencies and Setup\n",
    "import matplotlib.pyplot as plt\n",
    "import pandas as pd\n",
    "import numpy as np\n",
    "\n",
    "# File to Load (Remember to change these)\n",
    "city_data_to_load = \"data/city_data.csv\"\n",
    "ride_data_to_load = \"data/ride_data.csv\"\n",
    "\n",
    "# Read the City and Ride Data\n",
    "city_df = pd.read_csv(city_data_to_load)\n",
    "\n",
    "ride_df = pd.read_csv(ride_data_to_load)\n",
    "# Combine the data into a single dataset\n",
    "city_ride_df = pd.merge(city_df, ride_df, on=\"city\") \n",
    "city_ride_df.head()\n",
    "# Display the data table for preview\n"
   ]
  },
  {
   "cell_type": "code",
   "execution_count": 328,
   "metadata": {},
   "outputs": [],
   "source": [
    "cities = city_ride_df['city'].unique()\n"
   ]
  },
  {
   "cell_type": "code",
   "execution_count": 330,
   "metadata": {
    "scrolled": true
   },
   "outputs": [],
   "source": [
    "# city_ride_df_orig = city_ride_df.copy()\n",
    "urban_df= city_ride_df.loc[city_ride_df['type'] == 'Urban'] \n"
   ]
  },
  {
   "cell_type": "code",
   "execution_count": 331,
   "metadata": {},
   "outputs": [],
   "source": [
    "suburban_df= city_ride_df.loc[city_ride_df['type'] == 'Suburban'] \n"
   ]
  },
  {
   "cell_type": "code",
   "execution_count": 255,
   "metadata": {},
   "outputs": [
    {
     "data": {
      "text/plain": [
       "city             object\n",
       "driver_count      int64\n",
       "type             object\n",
       "date             object\n",
       "fare            float64\n",
       "ride_id         float64\n",
       "dtype: object"
      ]
     },
     "execution_count": 255,
     "metadata": {},
     "output_type": "execute_result"
    }
   ],
   "source": [
    "suburban_df.dtypes"
   ]
  },
  {
   "cell_type": "code",
   "execution_count": 324,
   "metadata": {
    "scrolled": true
   },
   "outputs": [],
   "source": [
    "rural_df= city_ride_df.loc[city_ride_df['type'] == 'Rural'] \n"
   ]
  },
  {
   "cell_type": "markdown",
   "metadata": {},
   "source": [
    "## Bubble Plot of Ride Sharing Data"
   ]
  },
  {
   "cell_type": "code",
   "execution_count": 332,
   "metadata": {},
   "outputs": [
    {
     "data": {
      "text/plain": [
       "625"
      ]
     },
     "execution_count": 332,
     "metadata": {},
     "output_type": "execute_result"
    }
   ],
   "source": [
    "rides_per_subcity = suburban_df.groupby(['city']).count()['ride_id']\n",
    "avg_subfare_df = suburban_df.groupby(['city'])['fare'].mean()\n",
    "subdrivers = suburban_df.groupby(['city'])['driver_count'].value_counts()\n",
    "subdrivers.sum()\n"
   ]
  },
  {
   "cell_type": "code",
   "execution_count": 333,
   "metadata": {},
   "outputs": [],
   "source": [
    "rides_per_ruralcity= rural_df.groupby(['city']).count()['ride_id']\n",
    "avg_ruralfare_df = rural_df.groupby(['city'])['fare'].mean()\n",
    "rural_drivers = rural_df.groupby(['city'])['driver_count'].value_counts()"
   ]
  },
  {
   "cell_type": "code",
   "execution_count": 334,
   "metadata": {},
   "outputs": [],
   "source": [
    "rides_per_urbancity= urban_df.groupby(['city']).count()['ride_id']\n",
    "avg_urbanfare_df = urban_df.groupby(['city'])['fare'].mean()\n",
    "urban_drivers = urban_df.groupby(['city'])['driver_count'].value_counts()"
   ]
  },
  {
   "cell_type": "code",
   "execution_count": 337,
   "metadata": {},
   "outputs": [
    {
     "data": {
      "image/png": "[encoded data removed]",
      "text/plain": [
       "<Figure size 432x288 with 1 Axes>"
      ]
     },
     "metadata": {},
     "output_type": "display_data"
    }
   ],
   "source": [
    "plt.scatter(rides_per_urbancity, avg_urban_df, s=urban_drivers*10, marker='o', facecolors=\"lightcoral\", edgecolor=\"black\", \n",
    "            alpha=0.5, label=\"Urban\")\n",
    "plt.scatter(rides_per_subcity, avg_subfare_df, s=subdrivers*10, marker='o', facecolors=\"lightskyblue\", edgecolor=\"black\", \n",
    "            alpha=0.5, label=\"Suburban\")\n",
    "plt.scatter(rides_per_ruralcity, avg_ruralfare_df, s=rural_drivers*10, marker='o', facecolors=\"gold\", edgecolor=\"black\",\n",
    "            alpha=0.5, label=\"Rural\")\n",
    "\n",
    "plt.title(\"Pyber Ride Sharing Data (2016)\")\n",
    "plt.xlabel(\"Total Number of Rides (Per City)\")\n",
    "plt.ylabel(\"Average Fare ($)\")\n",
    "# plt.legend(handles=[Urban, Suburban, Rural], loc=\"upper right\")\n",
    "textstr = \"Note: Circle size correlates with driver count per city.\"\n",
    "plt.text = (1,1, textstr)\n"
   ]
  },
  {
   "cell_type": "raw",
   "metadata": {},
   "source": []
  },
  {
   "cell_type": "code",
   "execution_count": 275,
   "metadata": {},
   "outputs": [
    {
     "data": {
      "text/plain": [
       "<Figure size 432x288 with 0 Axes>"
      ]
     },
     "metadata": {},
     "output_type": "display_data"
    }
   ],
   "source": [
    "# Save Figure\n",
    "plt.savefig(\"Pyber Ride Sharing Data (2016)\")"
   ]
  },
  {
   "cell_type": "code",
   "execution_count": 6,
   "metadata": {},
   "outputs": [],
   "source": [
    "# Show plot\n",
    "plt.show()"
   ]
  },
  {
   "cell_type": "markdown",
   "metadata": {},
   "source": [
    "## Total Fares by City Type"
   ]
  },
  {
   "cell_type": "code",
   "execution_count": 139,
   "metadata": {},
   "outputs": [
    {
     "data": {
      "text/plain": [
       "30.46387206273222"
      ]
     },
     "execution_count": 139,
     "metadata": {},
     "output_type": "execute_result"
    }
   ],
   "source": [
    "# Calculate Type Percents\n",
    "\n",
    "total_fare = city_ride_df['fare'].sum()\n",
    "total_fare\n",
    "\n",
    "total_subfare_df = suburban_df['fare'].sum()\n",
    "total_subfare_df\n",
    "\n",
    "percentage_subfare = total_subfare_df / total_fare *100\n",
    "percentage_subfare\n"
   ]
  },
  {
   "cell_type": "code",
   "execution_count": 140,
   "metadata": {},
   "outputs": [
    {
     "data": {
      "text/plain": [
       "6.81149297498341"
      ]
     },
     "execution_count": 140,
     "metadata": {},
     "output_type": "execute_result"
    }
   ],
   "source": [
    "total_ruralfare_df = rural_df['fare'].sum()\n",
    "total_ruralfare_df\n",
    "\n",
    "percentage_ruralfare = total_ruralfare_df / total_fare *100\n",
    "percentage_ruralfare"
   ]
  },
  {
   "cell_type": "code",
   "execution_count": 141,
   "metadata": {},
   "outputs": [
    {
     "data": {
      "text/plain": [
       "62.72463496228438"
      ]
     },
     "execution_count": 141,
     "metadata": {},
     "output_type": "execute_result"
    }
   ],
   "source": [
    "total_urbanfare_df = urban_df['fare'].sum()\n",
    "total_urbanfare_df\n",
    "\n",
    "percentage_urbanfare = total_urbanfare_df / total_fare *100\n",
    "percentage_urbanfare"
   ]
  },
  {
   "cell_type": "code",
   "execution_count": 283,
   "metadata": {},
   "outputs": [
    {
     "data": {
      "image/png": "[encoded data removed]",
      "text/plain": [
       "<Figure size 432x288 with 1 Axes>"
      ]
     },
     "metadata": {},
     "output_type": "display_data"
    }
   ],
   "source": [
    "labels = [\"Urban\", \"Suburban\", \"Rural\"]\n",
    "sizes = [62.7, 30.5, 6.8]\n",
    "colors = [\"lightcoral\", \"lightskyblue\", \"gold\"]\n",
    "explode= (0,0,0.2)\n",
    "\n",
    "# Creates the pie chart based upon the values above\n",
    "# Automatically finds the percentages of each part of the pie chart\n",
    "plt.pie(sizes, explode=explode, labels=labels, colors=colors,\n",
    "        autopct=\"%1.1f%%\", shadow=True, startangle=140)\n",
    "plt.axis(\"equal\")\n",
    "plt.title(\"Percentage Fare Per City Type\")\n",
    "# Save Figure\n",
    "plt.savefig(\"percentage fare per city type\")"
   ]
  },
  {
   "cell_type": "code",
   "execution_count": 153,
   "metadata": {},
   "outputs": [],
   "source": [
    "# Show Figure\n",
    "plt.show()"
   ]
  },
  {
   "cell_type": "markdown",
   "metadata": {},
   "source": [
    "## Total Rides by City Type"
   ]
  },
  {
   "cell_type": "code",
   "execution_count": 158,
   "metadata": {},
   "outputs": [
    {
     "data": {
      "text/plain": [
       "26.31578947368421"
      ]
     },
     "execution_count": 158,
     "metadata": {},
     "output_type": "execute_result"
    }
   ],
   "source": [
    "# Calculate Ride Percents\n",
    "total_rides = city_ride_df['ride_id'].count()\n",
    "total_rides\n",
    "\n",
    "total_subrides_df = suburban_df['ride_id'].count()\n",
    "total_subrides_df\n",
    "\n",
    "percentage_subrides = total_subrides_df / total_rides *100\n"
   ]
  },
  {
   "cell_type": "code",
   "execution_count": 10,
   "metadata": {},
   "outputs": [],
   "source": [
    "# Show Figure\n",
    "plt.show()"
   ]
  },
  {
   "cell_type": "code",
   "execution_count": 159,
   "metadata": {},
   "outputs": [
    {
     "data": {
      "text/plain": [
       "5.263157894736842"
      ]
     },
     "execution_count": 159,
     "metadata": {},
     "output_type": "execute_result"
    }
   ],
   "source": [
    "total_ruralrides_df = rural_df['ride_id'].count()\n",
    "total_ruralrides_df\n",
    "\n",
    "percentage_ruralrides = total_ruralrides_df / total_rides *100\n",
    "percentage_ruralrides"
   ]
  },
  {
   "cell_type": "code",
   "execution_count": 318,
   "metadata": {},
   "outputs": [
    {
     "data": {
      "text/plain": [
       "68.42105263157895"
      ]
     },
     "execution_count": 318,
     "metadata": {},
     "output_type": "execute_result"
    }
   ],
   "source": [
    "total_urbanrides_df = urban_df['ride_id'].count()\n",
    "total_urbanrides_df\n",
    "percentage_urbanrides = total_urbanrides_df / total_rides *100\n",
    "percentage_urbanrides"
   ]
  },
  {
   "cell_type": "code",
   "execution_count": 164,
   "metadata": {},
   "outputs": [
    {
     "data": {
      "text/plain": [
       "Text(0.5,1,'Percentage Rides Per City Type')"
      ]
     },
     "execution_count": 164,
     "metadata": {},
     "output_type": "execute_result"
    },
    {
     "data": {
      "image/png": "[encoded data removed]",
      "text/plain": [
       "<Figure size 432x288 with 1 Axes>"
      ]
     },
     "metadata": {},
     "output_type": "display_data"
    }
   ],
   "source": [
    "labels = [\"Urban\", \"Suburban\", \"Rural\"]\n",
    "sizes = [68.4, 26.3, 5.3]\n",
    "colors = [\"lightcoral\", \"lightskyblue\", \"gold\"]\n",
    "\n",
    "# Creates the pie chart based upon the values above\n",
    "# Automatically finds the percentages of each part of the pie chart\n",
    "plt.pie(sizes, labels=labels, colors=colors,\n",
    "        autopct=\"%1.1f%%\", shadow=True, startangle=140)\n",
    "plt.axis(\"equal\")\n",
    "plt.title(\"Percentage Rides Per City Type\")\n",
    "# Save Figure\n",
    "plt.savefig(\"percentage rides per city type\")"
   ]
  },
  {
   "cell_type": "markdown",
   "metadata": {},
   "source": [
    "## Total Drivers by City Type"
   ]
  },
  {
   "cell_type": "code",
   "execution_count": 297,
   "metadata": {},
   "outputs": [
    {
     "data": {
      "text/plain": [
       "2375"
      ]
     },
     "execution_count": 297,
     "metadata": {},
     "output_type": "execute_result"
    }
   ],
   "source": [
    "total_drivers = city_ride_df['driver_count'].count()\n",
    "total_drivers"
   ]
  },
  {
   "cell_type": "code",
   "execution_count": 316,
   "metadata": {},
   "outputs": [
    {
     "data": {
      "text/plain": [
       "26.31578947368421"
      ]
     },
     "execution_count": 316,
     "metadata": {},
     "output_type": "execute_result"
    }
   ],
   "source": [
    "# Calculate Driver Percents\n",
    "subdrivers = suburban_df.groupby(['city'])['driver_count'].value_counts()\n",
    "subdrivers.sum()\n",
    "\n",
    "percentage_subdrivers = subdrivers.sum()/ total_drivers *100\n",
    "percentage_subdrivers"
   ]
  },
  {
   "cell_type": "code",
   "execution_count": 317,
   "metadata": {},
   "outputs": [
    {
     "data": {
      "text/plain": [
       "5.263157894736842"
      ]
     },
     "execution_count": 317,
     "metadata": {},
     "output_type": "execute_result"
    }
   ],
   "source": [
    "rural_drivers = rural_df.groupby(['city'])['driver_count'].value_counts()\n",
    "rural_drivers.sum()\n",
    "percentage_ruraldrivers = rural_drivers.sum() / total_drivers *100\n",
    "percentage_ruraldrivers"
   ]
  },
  {
   "cell_type": "code",
   "execution_count": 319,
   "metadata": {},
   "outputs": [
    {
     "data": {
      "text/plain": [
       "68.42105263157895"
      ]
     },
     "execution_count": 319,
     "metadata": {},
     "output_type": "execute_result"
    }
   ],
   "source": [
    "urban_drivers = urban_df.groupby(['city'])['driver_count'].value_counts()\n",
    "urban_drivers.sum()\n",
    "\n",
    "percentage_urbandrivers = urban_drivers.sum() / total_drivers *100\n",
    "percentage_urbandrivers"
   ]
  },
  {
   "cell_type": "code",
   "execution_count": 338,
   "metadata": {},
   "outputs": [
    {
     "data": {
      "image/png": "[encoded data removed]",
      "text/plain": [
       "<Figure size 432x288 with 1 Axes>"
      ]
     },
     "metadata": {},
     "output_type": "display_data"
    }
   ],
   "source": [
    "labels = [\"Urban\", \"Suburban\", \"Rural\"]\n",
    "sizes = [68.4, 26.3, 5.3]\n",
    "colors = [\"lightcoral\", \"lightskyblue\", \"gold\"]\n",
    "\n",
    "# Creates the pie chart based upon the values above\n",
    "# Automatically finds the percentages of each part of the pie chart\n",
    "plt.pie(sizes, labels=labels, colors=colors,\n",
    "        autopct=\"%1.1f%%\", shadow=True, startangle=140)\n",
    "plt.axis(\"equal\")\n",
    "plt.title(\"Percentage Drivers Per City Type\")\n",
    "# Save Figure\n",
    "plt.savefig(\"percentage drivers per city type\")"
   ]
  },
  {
   "cell_type": "code",
   "execution_count": null,
   "metadata": {},
   "outputs": [],
   "source": []
  },
  {
   "cell_type": "code",
   "execution_count": null,
   "metadata": {},
   "outputs": [],
   "source": []
  }
 ],
 "metadata": {
  "anaconda-cloud": {},
  "kernelspec": {
   "display_name": "Python 3",
   "language": "python",
   "name": "python3"
  },
  "language_info": {
   "codemirror_mode": {
    "name": "ipython",
    "version": 3
   },
   "file_extension": ".py",
   "mimetype": "text/x-python",
   "name": "python",
   "nbconvert_exporter": "python",
   "pygments_lexer": "ipython3",
   "version": "3.6.5"
  }
 },
 "nbformat": 4,
 "nbformat_minor": 2
}
