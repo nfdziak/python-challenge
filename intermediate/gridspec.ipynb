{
  "cells": [
    {
      "cell_type": "code",
      "execution_count": null,
      "metadata": {
        "collapsed": false
      },
      "outputs": [],
      "source": [
        "%matplotlib inline"
      ]
    },
    {
      "cell_type": "markdown",
      "metadata": {},
      "source": [
        "\n# Customizing Figure Layouts Using GridSpec and Other Functions\n\n\nHow to create grid-shaped combinations of axes.\n\n    :func:`~matplotlib.pyplot.subplots`\n        Perhaps the primary function used to create figures and axes.\n        It's also similar to :func:`~matplotlib.pyplot.subplot`,\n        but creates and places all axes on the figure at once.\n\n    :class:`~matplotlib.gridspec.GridSpec`\n        Specifies the geometry of the grid that a subplot will be\n        placed. The number of rows and number of columns of the grid\n        need to be set. Optionally, the subplot layout parameters\n        (e.g., left, right, etc.) can be tuned.\n\n    :class:`~matplotlib.gridspec.SubplotSpec`\n        Specifies the location of the subplot in the given *GridSpec*.\n\n    :func:`~matplotlib.pyplot.subplot2grid`\n        A helper function that is similar to :func:`~matplotlib.pyplot.subplot`,\n        but uses 0-based indexing and let subplot to occupy multiple cells.\n        This function is not covered in this tutorial.\n\n\n"
      ]
    },
    {
      "cell_type": "code",
      "execution_count": null,
      "metadata": {
        "collapsed": false
      },
      "outputs": [],
      "source": [
        "import matplotlib.pyplot as plt\nimport matplotlib.gridspec as gridspec"
      ]
    },
    {
      "cell_type": "markdown",
      "metadata": {},
      "source": [
        "Basic Quickstart Guide\n======================\n\nThese first two examples show how to create a basic 4-by-4 grid using\nboth :func:`~matplotlib.pyplot.subplots` and :mod:`~matplotlib.gridspec`.\n\nUsing :func:`~matplotlib.pyplot.subplots` is quite simple.\nIt returns a :class:`~matplotlib.figure.Figure` instance and an array of\n:class:`~matplotlib.axes.Axes` objects.\n\n"
      ]
    },
    {
      "cell_type": "code",
      "execution_count": null,
      "metadata": {
        "collapsed": false
      },
      "outputs": [],
      "source": [
        "fig1, f1_axes = plt.subplots(ncols=2, nrows=2)\nfig1.tight_layout()"
      ]
    },
    {
      "cell_type": "markdown",
      "metadata": {},
      "source": [
        "For a simple use case such as this, :mod:`~matplotlib.gridspec` is\nperhaps overly verbose.\nYou have to create the figure and :class:`~matplotlib.gridspec.GridSpec`\ninstance separately, then pass elements of gridspec instance to the\n:func:`~matplotlib.figure.Figure.add_subplot` method to create the axes\nobjects.\nThe elements of the gridspec are accessed in generally the same manner as\nnumpy arrays.\n\n"
      ]
    },
    {
      "cell_type": "code",
      "execution_count": null,
      "metadata": {
        "collapsed": false
      },
      "outputs": [],
      "source": [
        "fig2 = plt.figure()\nspec2 = gridspec.GridSpec(ncols=2, nrows=2)\nf2_ax1 = fig2.add_subplot(spec2[0, 0])\nf2_ax2 = fig2.add_subplot(spec2[0, 1])\nf2_ax3 = fig2.add_subplot(spec2[1, 0])\nf2_ax4 = fig2.add_subplot(spec2[1, 1])\nfig2.tight_layout()"
      ]
    },
    {
      "cell_type": "markdown",
      "metadata": {},
      "source": [
        "When you want to have subplots of different sizes, however,\n:mod:`~matplotlib.gridspec` becomes indispensable and provides a couple\nof options.\nThe method shown here initializes a uniform grid specification,\nand then uses typical numpy indexing and slices to allocate multiple\n\"cells\" for a given subplot.\n\n"
      ]
    },
    {
      "cell_type": "code",
      "execution_count": null,
      "metadata": {
        "collapsed": false
      },
      "outputs": [],
      "source": [
        "fig3 = plt.figure()\nspec3 = gridspec.GridSpec(ncols=3, nrows=3)\nanno_opts = dict(xy=(0.5, 0.5), xycoords='axes fraction',\n                 va='center', ha='center')\n\nfig3.add_subplot(spec3[0, 0]).annotate('GridSpec[0, 0]', **anno_opts)\nfig3.add_subplot(spec3[0, 1:]).annotate('GridSpec[0, 1:]', **anno_opts)\nfig3.add_subplot(spec3[1:, 0]).annotate('GridSpec[1:, 0]', **anno_opts)\nfig3.add_subplot(spec3[1:, 1:]).annotate('GridSpec[1:, 1:]', **anno_opts)\n\nfig3.tight_layout()"
      ]
    },
    {
      "cell_type": "markdown",
      "metadata": {},
      "source": [
        "Other option is to use the ``width_ratios`` and ``height_ratios``\nparameters. These keyword arguments are lists of numbers.\nNote that absolute values are meaningless, only their relative ratios\nmatter. That means that ``width_ratios=[2, 4, 8]`` is equivalent to\n``width_ratios=[1, 2, 4]`` within equally wide figures.\nFor the sake of demonstration, we'll blindly create the axes within\n``for`` loops since we won't need them later.\n\n"
      ]
    },
    {
      "cell_type": "code",
      "execution_count": null,
      "metadata": {
        "collapsed": false
      },
      "outputs": [],
      "source": [
        "fig4 = plt.figure()\nwidths = [2, 3, 1.5]\nheights = [1, 3, 2]\nspec4 = gridspec.GridSpec(ncols=3, nrows=3, width_ratios=widths,\n                          height_ratios=heights)\nfor row in range(3):\n    for col in range(3):\n        ax = fig4.add_subplot(spec4[row, col])\n        label = 'Width: {}\\nHeight: {}'.format(widths[col], heights[row])\n        ax.annotate(label, (0.1, 0.5), xycoords='axes fraction', va='center')\n\nfig4.tight_layout()"
      ]
    },
    {
      "cell_type": "markdown",
      "metadata": {},
      "source": [
        "Learning to use ``width_ratios`` and ``height_ratios`` is particularly\nuseful since the top-level function :func:`~matplotlib.pyplot.subplots`\naccepts them within the ``gridspec_kw`` parameter.\nFor that matter, any parameter accepted by\n:class:`~matplotlib.gridspec.GridSpec` can be passed to\n:func:`~matplotlib.pyplot.subplots` via the ``gridspec_kw`` parameter.\nThis example recreates the previous figure without directly using a\ngridspec instance.\n\n"
      ]
    },
    {
      "cell_type": "code",
      "execution_count": null,
      "metadata": {
        "collapsed": false
      },
      "outputs": [],
      "source": [
        "gs_kw = dict(width_ratios=widths, height_ratios=heights)\nfig5, f5_axes = plt.subplots(ncols=3, nrows=3, gridspec_kw=gs_kw)\nfor r, row in enumerate(f5_axes):\n    for c, ax in enumerate(row):\n        label = 'Width: {}\\nHeight: {}'.format(widths[c], heights[r])\n        ax.annotate(label, (0.1, 0.5), xycoords='axes fraction', va='center')\n\nfig5.tight_layout()"
      ]
    },
    {
      "cell_type": "markdown",
      "metadata": {},
      "source": [
        "Fine Adjustments to a Gridspec Layout\n=====================================\n\nWhen a GridSpec is explicitly used, you can adjust the layout\nparameters of subplots that are created from the GridSpec.\n\n"
      ]
    },
    {
      "cell_type": "code",
      "execution_count": null,
      "metadata": {
        "collapsed": false
      },
      "outputs": [],
      "source": [
        "fig = plt.figure()\ngs1 = gridspec.GridSpec(nrows=3, ncols=3, left=0.05, right=0.48, wspace=0.05)\nax1 = fig.add_subplot(gs1[:-1, :])\nax2 = fig.add_subplot(gs1[-1, :-1])\nax3 = fig.add_subplot(gs1[-1, -1])"
      ]
    },
    {
      "cell_type": "markdown",
      "metadata": {},
      "source": [
        "This is similar to :func:`~matplotlib.pyplot.subplots_adjust`, but it only\naffects the subplots that are created from the given GridSpec.\n\nFor example, compare the left and right sides of this figure:\n\n"
      ]
    },
    {
      "cell_type": "code",
      "execution_count": null,
      "metadata": {
        "collapsed": false
      },
      "outputs": [],
      "source": [
        "fig = plt.figure()\ngs1 = gridspec.GridSpec(nrows=3, ncols=3, left=0.05, right=0.48,\n                        wspace=0.05)\nax1 = fig.add_subplot(gs1[:-1, :])\nax2 = fig.add_subplot(gs1[-1, :-1])\nax3 = fig.add_subplot(gs1[-1, -1])\n\n\ngs2 = gridspec.GridSpec(nrows=3, ncols=3, left=0.55, right=0.98,\n                        hspace=0.05)\nax4 = fig.add_subplot(gs2[:, :-1])\nax5 = fig.add_subplot(gs2[:-1, -1])\nax6 = fig.add_subplot(gs2[-1, -1])"
      ]
    },
    {
      "cell_type": "markdown",
      "metadata": {},
      "source": [
        "GridSpec using SubplotSpec\n==========================\n\nYou can create GridSpec from the :class:`~matplotlib.gridspec.SubplotSpec`,\nin which case its layout parameters are set to that of the location of\nthe given SubplotSpec.\n\n"
      ]
    },
    {
      "cell_type": "code",
      "execution_count": null,
      "metadata": {
        "collapsed": false
      },
      "outputs": [],
      "source": [
        "fig = plt.figure()\ngs0 = gridspec.GridSpec(1, 2)\n\ngs00 = gridspec.GridSpecFromSubplotSpec(2, 3, subplot_spec=gs0[0])\ngs01 = gridspec.GridSpecFromSubplotSpec(3, 2, subplot_spec=gs0[1])\n\nfor a in range(2):\n    for b in range(3):\n        fig.add_subplot(gs00[a, b])\n        fig.add_subplot(gs01[b, a])\n\nfig.tight_layout()"
      ]
    },
    {
      "cell_type": "markdown",
      "metadata": {},
      "source": [
        "A Complex Nested GridSpec using SubplotSpec\n===========================================\n\nHere's a more sophisticated example of nested GridSpec where we put\na box around each cell of the outer 4x4 grid, by hiding appropriate\nspines in each of the inner 3x3 grids.\n\n"
      ]
    },
    {
      "cell_type": "code",
      "execution_count": null,
      "metadata": {
        "collapsed": false
      },
      "outputs": [],
      "source": [
        "import numpy as np\nfrom itertools import product\n\n\ndef squiggle_xy(a, b, c, d, i=np.arange(0.0, 2*np.pi, 0.05)):\n    return np.sin(i*a)*np.cos(i*b), np.sin(i*c)*np.cos(i*d)\n\nfig = plt.figure(figsize=(8, 8))\n\n# gridspec inside gridspec\nouter_grid = gridspec.GridSpec(4, 4, wspace=0.0, hspace=0.0)\n\nfor i in range(16):\n    inner_grid = gridspec.GridSpecFromSubplotSpec(\n      3, 3, subplot_spec=outer_grid[i], wspace=0.0, hspace=0.0)\n    a, b = int(i/4)+1, i % 4+1\n    for j, (c, d) in enumerate(product(range(1, 4), repeat=2)):\n        ax = plt.Subplot(fig, inner_grid[j])\n        ax.plot(*squiggle_xy(a, b, c, d))\n        ax.set_xticks([])\n        ax.set_yticks([])\n        fig.add_subplot(ax)\n\nall_axes = fig.get_axes()\n\n# show only the outside spines\nfor ax in all_axes:\n    for sp in ax.spines.values():\n        sp.set_visible(False)\n    if ax.is_first_row():\n        ax.spines['top'].set_visible(True)\n    if ax.is_last_row():\n        ax.spines['bottom'].set_visible(True)\n    if ax.is_first_col():\n        ax.spines['left'].set_visible(True)\n    if ax.is_last_col():\n        ax.spines['right'].set_visible(True)\n\nplt.show()"
      ]
    }
  ],
  "metadata": {
    "kernelspec": {
      "display_name": "Python 3",
      "language": "python",
      "name": "python3"
    },
    "language_info": {
      "codemirror_mode": {
        "name": "ipython",
        "version": 3
      },
      "file_extension": ".py",
      "mimetype": "text/x-python",
      "name": "python",
      "nbconvert_exporter": "python",
      "pygments_lexer": "ipython3",
      "version": "3.6.6"
    }
  },
  "nbformat": 4,
  "nbformat_minor": 0
}