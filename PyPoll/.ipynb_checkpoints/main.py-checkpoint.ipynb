{
 "cells": [
  {
   "cell_type": "code",
   "execution_count": 29,
   "metadata": {},
   "outputs": [],
   "source": [
    "import csv\n",
    "import pandas as pd\n",
    "\n",
    "df = pd.read_csv('election_data.csv')\n"
   ]
  },
  {
   "cell_type": "code",
   "execution_count": 30,
   "metadata": {},
   "outputs": [
    {
     "data": {
      "text/plain": [
       "3521001"
      ]
     },
     "execution_count": 30,
     "metadata": {},
     "output_type": "execute_result"
    }
   ],
   "source": [
    "total_votes = len(df)\n",
    "total_votes"
   ]
  },
  {
   "cell_type": "code",
   "execution_count": 31,
   "metadata": {},
   "outputs": [
    {
     "data": {
      "text/plain": [
       "array(['Khan', 'Correy', 'Li', \"O'Tooley\"], dtype=object)"
      ]
     },
     "execution_count": 31,
     "metadata": {},
     "output_type": "execute_result"
    }
   ],
   "source": [
    "candidates = df['Candidate'].unique()\n",
    "candidates"
   ]
  },
  {
   "cell_type": "code",
   "execution_count": 32,
   "metadata": {},
   "outputs": [
    {
     "data": {
      "text/plain": [
       "Khan        2218231\n",
       "Correy       704200\n",
       "Li           492940\n",
       "O'Tooley     105630\n",
       "Name: Candidate, dtype: int64"
      ]
     },
     "execution_count": 32,
     "metadata": {},
     "output_type": "execute_result"
    }
   ],
   "source": [
    "results = df['Candidate'].value_counts()\n",
    "results\n"
   ]
  },
  {
   "cell_type": "code",
   "execution_count": 33,
   "metadata": {},
   "outputs": [
    {
     "data": {
      "text/plain": [
       "[63.00001050837531, 19.999994319797125, 13.999996023857989, 2.999999147969569]"
      ]
     },
     "execution_count": 33,
     "metadata": {},
     "output_type": "execute_result"
    }
   ],
   "source": [
    "percentage_votes = [(percentage/total_votes)*100 for percentage in results]\n",
    "percentage_votes"
   ]
  },
  {
   "cell_type": "code",
   "execution_count": 34,
   "metadata": {},
   "outputs": [],
   "source": [
    "max_name = results.idxmax()\n"
   ]
  },
  {
   "cell_type": "code",
   "execution_count": 35,
   "metadata": {},
   "outputs": [
    {
     "name": "stdout",
     "output_type": "stream",
     "text": [
      "Election Results\n",
      "Total Votes: 3521001\n",
      "Khan 63.0% (2218231 )\n",
      "Correy 20.0% (704200)\n",
      "Li 14.0% (492940)\n",
      "O'Tooley 3.0% (105630)\n",
      "Winner: Khan\n"
     ]
    }
   ],
   "source": [
    "print('Election Results')\n",
    "print('Total Votes: %d'%total_votes)\n",
    "print('Khan', str(round(percentage_votes[0],2)) + '%','('+str(results[0]) + ' )')\n",
    "print('Correy', str(round(percentage_votes[1],2)) + '%','('+str(results[1])+')')\n",
    "print('Li', str(round(percentage_votes[2],2)) + '%','('+str(results[2])+')')\n",
    "print(\"O'Tooley\", str(round(percentage_votes[3],2)) + '%','('+str(results[3])+')')\n",
    "print(\"Winner: \" + max_name )"
   ]
  },
  {
   "cell_type": "code",
   "execution_count": 42,
   "metadata": {},
   "outputs": [],
   "source": [
    "with open(\"election_results.txt\", \"w\") as outfile:\n",
    "    outfile.write(\"Election Results\" + \"\\n\")\n",
    "    outfile.write(\"Total Votes: \" + str(total_votes) + \"\\n\")\n",
    "    outfile.write(\"Khan: \" + str(round(percentage_votes[0],2)) + \"%, \" + str(results[0]) + \"\\n\")\n",
    "    outfile.write(\"Correy: \" + str(round(percentage_votes[1],2)) + \"%, \" + str(results[1]) + \"\\n\")\n",
    "    outfile.write(\"Li: \" + str(round(percentage_votes[2],2)) + \"%, \" + str(results[2]) + \"\\n\") \n",
    "    outfile.write(\"O'Tooley: \" + str(round(percentage_votes[3],2)) + \"%, \" + str(results[3]) + \"\\n\")\n",
    "    outfile.write(\"Winner: \" + max_name)"
   ]
  },
  {
   "cell_type": "code",
   "execution_count": null,
   "metadata": {},
   "outputs": [],
   "source": []
  },
  {
   "cell_type": "code",
   "execution_count": null,
   "metadata": {},
   "outputs": [],
   "source": []
  }
 ],
 "metadata": {
  "kernelspec": {
   "display_name": "Python 3",
   "language": "python",
   "name": "python3"
  },
  "language_info": {
   "codemirror_mode": {
    "name": "ipython",
    "version": 3
   },
   "file_extension": ".py",
   "mimetype": "text/x-python",
   "name": "python",
   "nbconvert_exporter": "python",
   "pygments_lexer": "ipython3",
   "version": "3.6.5"
  }
 },
 "nbformat": 4,
 "nbformat_minor": 2
}
