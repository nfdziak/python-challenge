{
 "cells": [
  {
   "cell_type": "code",
   "execution_count": 1,
   "metadata": {},
   "outputs": [],
   "source": [
    "import pandas as pd\n",
    "import os\n",
    "from bs4 import BeautifulSoup as bs\n",
    "import requests\n",
    "from splinter import Browser\n",
    "import html5lib\n",
    "import urllib.parse\n"
   ]
  },
  {
   "cell_type": "code",
   "execution_count": 2,
   "metadata": {},
   "outputs": [],
   "source": [
    "executable_path = {'executable_path': 'chromedriver.exe'}\n",
    "browser = Browser('chrome', **executable_path, headless=False)"
   ]
  },
  {
   "cell_type": "code",
   "execution_count": 3,
   "metadata": {},
   "outputs": [],
   "source": [
    "url = 'https://mars.nasa.gov/news/?page=0&per_page=40&ordeted_at+desc&search=&category=19%2C165%2C184%2C204&blank_scope=Latest'\n",
    "browser.visit(url)"
   ]
  },
  {
   "cell_type": "code",
   "execution_count": 4,
   "metadata": {},
   "outputs": [],
   "source": [
    "response = requests.get(url)"
   ]
  },
  {
   "cell_type": "code",
   "execution_count": 5,
   "metadata": {},
   "outputs": [],
   "source": [
    "soup = bs(browser.html, 'html.parser')"
   ]
  },
  {
   "cell_type": "code",
   "execution_count": 6,
   "metadata": {},
   "outputs": [],
   "source": [
    "# print(soup.prettify())"
   ]
  },
  {
   "cell_type": "code",
   "execution_count": 7,
   "metadata": {
    "scrolled": true
   },
   "outputs": [
    {
     "name": "stdout",
     "output_type": "stream",
     "text": [
      "Third ASPIRE Test Confirms Mars 2020 Parachute a Go\n"
     ]
    }
   ],
   "source": [
    "title = soup.find(\"div\", class_=\"content_title\")\n",
    "print(title.text)\n"
   ]
  },
  {
   "cell_type": "code",
   "execution_count": 8,
   "metadata": {},
   "outputs": [
    {
     "name": "stdout",
     "output_type": "stream",
     "text": [
      "The supersonic parachute that will handle the heaviest payload yet to the Red Planet – Mars 2020 rover – passes its final sounding rocket test with flying colors.\n"
     ]
    }
   ],
   "source": [
    "news_p = soup.find(\"div\",class_=\"article_teaser_body\").text\n",
    "print(news_p)"
   ]
  },
  {
   "cell_type": "code",
   "execution_count": 9,
   "metadata": {},
   "outputs": [],
   "source": [
    "url = 'https://www.jpl.nasa.gov/spaceimages/?search=&category=Mars'\n",
    "browser.visit(url)"
   ]
  },
  {
   "cell_type": "code",
   "execution_count": 10,
   "metadata": {},
   "outputs": [],
   "source": [
    "xpath = '//*[@id=\"full_image\"]'"
   ]
  },
  {
   "cell_type": "code",
   "execution_count": 11,
   "metadata": {},
   "outputs": [
    {
     "name": "stdout",
     "output_type": "stream",
     "text": [
      "/spaceimages/images/mediumsize/PIA19048_ip.jpg\n"
     ]
    }
   ],
   "source": [
    "results = browser.find_by_xpath(xpath)\n",
    "img = results[0]\n",
    "img.click()\n",
    "import time\n",
    "time.sleep(5)\n",
    "html = browser.html\n",
    "soup = bs(html, 'lxml')\n",
    "featured_image_url= soup.find(\"img\", class_=\"fancybox-image\")[\"src\"]\n",
    "print(featured_image_url)"
   ]
  },
  {
   "cell_type": "code",
   "execution_count": 12,
   "metadata": {},
   "outputs": [
    {
     "data": {
      "text/plain": [
       "'https://www.jpl.nasa.gov/spaceimages/images/mediumsize/PIA19048_ip.jpg'"
      ]
     },
     "execution_count": 12,
     "metadata": {},
     "output_type": "execute_result"
    }
   ],
   "source": [
    "base = 'https://www.jpl.nasa.gov'\n",
    "urllib.parse.urljoin(base, featured_image_url)"
   ]
  },
  {
   "cell_type": "code",
   "execution_count": 13,
   "metadata": {},
   "outputs": [],
   "source": [
    "url = 'https://twitter.com/marswxreport?lang=en&lang=en'\n",
    "browser.visit(url)"
   ]
  },
  {
   "cell_type": "code",
   "execution_count": 14,
   "metadata": {},
   "outputs": [
    {
     "name": "stdout",
     "output_type": "stream",
     "text": [
      "Sol 2208 (2018-10-22), high -18C/0F, low -75C/-102F, pressure at 8.80 hPa, daylight 06:08-18:26\n"
     ]
    }
   ],
   "source": [
    "html = browser.html\n",
    "soup = bs(html, \"html.parser\")\n",
    "mars_weather = soup.select_one(\"div p:nth-of-type(5)\").text\n",
    "# soup.find_all(\"p\", class_=\"TweetTextSize TweetTextSize--normal js-tweet-text tweet-text\")\n",
    "print(mars_weather)"
   ]
  },
  {
   "cell_type": "code",
   "execution_count": 15,
   "metadata": {},
   "outputs": [],
   "source": [
    "url = 'https://space-facts.com/mars/'"
   ]
  },
  {
   "cell_type": "code",
   "execution_count": 16,
   "metadata": {},
   "outputs": [
    {
     "data": {
      "text/plain": [
       "'<table border=\"1\" class=\"dataframe\">\\n  <thead>\\n    <tr style=\"text-align: right;\">\\n      <th></th>\\n      <th>0</th>\\n      <th>1</th>\\n    </tr>\\n  </thead>\\n  <tbody>\\n    <tr>\\n      <th>0</th>\\n      <td>Equatorial Diameter:</td>\\n      <td>6,792 km</td>\\n    </tr>\\n    <tr>\\n      <th>1</th>\\n      <td>Polar Diameter:</td>\\n      <td>6,752 km</td>\\n    </tr>\\n    <tr>\\n      <th>2</th>\\n      <td>Mass:</td>\\n      <td>6.42 x 10^23 kg (10.7% Earth)</td>\\n    </tr>\\n    <tr>\\n      <th>3</th>\\n      <td>Moons:</td>\\n      <td>2 (Phobos &amp; Deimos)</td>\\n    </tr>\\n    <tr>\\n      <th>4</th>\\n      <td>Orbit Distance:</td>\\n      <td>227,943,824 km (1.52 AU)</td>\\n    </tr>\\n    <tr>\\n      <th>5</th>\\n      <td>Orbit Period:</td>\\n      <td>687 days (1.9 years)</td>\\n    </tr>\\n    <tr>\\n      <th>6</th>\\n      <td>Surface Temperature:</td>\\n      <td>-153 to 20 °C</td>\\n    </tr>\\n    <tr>\\n      <th>7</th>\\n      <td>First Record:</td>\\n      <td>2nd millennium BC</td>\\n    </tr>\\n    <tr>\\n      <th>8</th>\\n      <td>Recorded By:</td>\\n      <td>Egyptian astronomers</td>\\n    </tr>\\n  </tbody>\\n</table>'"
      ]
     },
     "execution_count": 16,
     "metadata": {},
     "output_type": "execute_result"
    }
   ],
   "source": [
    "tables = pd.read_html(url)\n",
    "tables[0].to_html()"
   ]
  },
  {
   "cell_type": "code",
   "execution_count": 17,
   "metadata": {},
   "outputs": [
    {
     "data": {
      "text/plain": [
       "pandas.core.frame.DataFrame"
      ]
     },
     "execution_count": 17,
     "metadata": {},
     "output_type": "execute_result"
    }
   ],
   "source": [
    "type(tables[0])"
   ]
  },
  {
   "cell_type": "code",
   "execution_count": 56,
   "metadata": {},
   "outputs": [
    {
     "ename": "WebDriverException",
     "evalue": "Message: chrome not reachable\n  (Session info: chrome=70.0.3538.77)\n  (Driver info: chromedriver=2.42.591088 (7b2b2dca23cca0862f674758c9a3933e685c27d5),platform=Windows NT 10.0.17134 x86_64)\n",
     "output_type": "error",
     "traceback": [
      "\u001b[1;31m---------------------------------------------------------------------------\u001b[0m",
      "\u001b[1;31mWebDriverException\u001b[0m                        Traceback (most recent call last)",
      "\u001b[1;32m<ipython-input-56-8fb1b96321bb>\u001b[0m in \u001b[0;36m<module>\u001b[1;34m()\u001b[0m\n\u001b[0;32m      2\u001b[0m \u001b[1;31m# https://astrogeology.usgs.gov/search/results?q=hemisphere+enhanced&k1=target&v1=Mars\u001b[0m\u001b[1;33m\u001b[0m\u001b[1;33m\u001b[0m\u001b[0m\n\u001b[0;32m      3\u001b[0m \u001b[1;31m# url = 'https://astrogeology.usgs.gov/search/map/Mars/Viking/cerberus_enhanced'\u001b[0m\u001b[1;33m\u001b[0m\u001b[1;33m\u001b[0m\u001b[0m\n\u001b[1;32m----> 4\u001b[1;33m \u001b[0mbrowser\u001b[0m\u001b[1;33m.\u001b[0m\u001b[0mvisit\u001b[0m\u001b[1;33m(\u001b[0m\u001b[0murl\u001b[0m\u001b[1;33m)\u001b[0m\u001b[1;33m\u001b[0m\u001b[0m\n\u001b[0m",
      "\u001b[1;32m~\\Anaconda3\\lib\\site-packages\\splinter\\driver\\webdriver\\__init__.py\u001b[0m in \u001b[0;36mvisit\u001b[1;34m(self, url)\u001b[0m\n\u001b[0;32m    192\u001b[0m \u001b[1;33m\u001b[0m\u001b[0m\n\u001b[0;32m    193\u001b[0m     \u001b[1;32mdef\u001b[0m \u001b[0mvisit\u001b[0m\u001b[1;33m(\u001b[0m\u001b[0mself\u001b[0m\u001b[1;33m,\u001b[0m \u001b[0murl\u001b[0m\u001b[1;33m)\u001b[0m\u001b[1;33m:\u001b[0m\u001b[1;33m\u001b[0m\u001b[0m\n\u001b[1;32m--> 194\u001b[1;33m         \u001b[0mself\u001b[0m\u001b[1;33m.\u001b[0m\u001b[0mdriver\u001b[0m\u001b[1;33m.\u001b[0m\u001b[0mget\u001b[0m\u001b[1;33m(\u001b[0m\u001b[0murl\u001b[0m\u001b[1;33m)\u001b[0m\u001b[1;33m\u001b[0m\u001b[0m\n\u001b[0m\u001b[0;32m    195\u001b[0m \u001b[1;33m\u001b[0m\u001b[0m\n\u001b[0;32m    196\u001b[0m     \u001b[1;32mdef\u001b[0m \u001b[0mback\u001b[0m\u001b[1;33m(\u001b[0m\u001b[0mself\u001b[0m\u001b[1;33m)\u001b[0m\u001b[1;33m:\u001b[0m\u001b[1;33m\u001b[0m\u001b[0m\n",
      "\u001b[1;32m~\\Anaconda3\\lib\\site-packages\\selenium\\webdriver\\remote\\webdriver.py\u001b[0m in \u001b[0;36mget\u001b[1;34m(self, url)\u001b[0m\n\u001b[0;32m    331\u001b[0m         \u001b[0mLoads\u001b[0m \u001b[0ma\u001b[0m \u001b[0mweb\u001b[0m \u001b[0mpage\u001b[0m \u001b[1;32min\u001b[0m \u001b[0mthe\u001b[0m \u001b[0mcurrent\u001b[0m \u001b[0mbrowser\u001b[0m \u001b[0msession\u001b[0m\u001b[1;33m.\u001b[0m\u001b[1;33m\u001b[0m\u001b[0m\n\u001b[0;32m    332\u001b[0m         \"\"\"\n\u001b[1;32m--> 333\u001b[1;33m         \u001b[0mself\u001b[0m\u001b[1;33m.\u001b[0m\u001b[0mexecute\u001b[0m\u001b[1;33m(\u001b[0m\u001b[0mCommand\u001b[0m\u001b[1;33m.\u001b[0m\u001b[0mGET\u001b[0m\u001b[1;33m,\u001b[0m \u001b[1;33m{\u001b[0m\u001b[1;34m'url'\u001b[0m\u001b[1;33m:\u001b[0m \u001b[0murl\u001b[0m\u001b[1;33m}\u001b[0m\u001b[1;33m)\u001b[0m\u001b[1;33m\u001b[0m\u001b[0m\n\u001b[0m\u001b[0;32m    334\u001b[0m \u001b[1;33m\u001b[0m\u001b[0m\n\u001b[0;32m    335\u001b[0m     \u001b[1;33m@\u001b[0m\u001b[0mproperty\u001b[0m\u001b[1;33m\u001b[0m\u001b[0m\n",
      "\u001b[1;32m~\\Anaconda3\\lib\\site-packages\\selenium\\webdriver\\remote\\webdriver.py\u001b[0m in \u001b[0;36mexecute\u001b[1;34m(self, driver_command, params)\u001b[0m\n\u001b[0;32m    319\u001b[0m         \u001b[0mresponse\u001b[0m \u001b[1;33m=\u001b[0m \u001b[0mself\u001b[0m\u001b[1;33m.\u001b[0m\u001b[0mcommand_executor\u001b[0m\u001b[1;33m.\u001b[0m\u001b[0mexecute\u001b[0m\u001b[1;33m(\u001b[0m\u001b[0mdriver_command\u001b[0m\u001b[1;33m,\u001b[0m \u001b[0mparams\u001b[0m\u001b[1;33m)\u001b[0m\u001b[1;33m\u001b[0m\u001b[0m\n\u001b[0;32m    320\u001b[0m         \u001b[1;32mif\u001b[0m \u001b[0mresponse\u001b[0m\u001b[1;33m:\u001b[0m\u001b[1;33m\u001b[0m\u001b[0m\n\u001b[1;32m--> 321\u001b[1;33m             \u001b[0mself\u001b[0m\u001b[1;33m.\u001b[0m\u001b[0merror_handler\u001b[0m\u001b[1;33m.\u001b[0m\u001b[0mcheck_response\u001b[0m\u001b[1;33m(\u001b[0m\u001b[0mresponse\u001b[0m\u001b[1;33m)\u001b[0m\u001b[1;33m\u001b[0m\u001b[0m\n\u001b[0m\u001b[0;32m    322\u001b[0m             response['value'] = self._unwrap_value(\n\u001b[0;32m    323\u001b[0m                 response.get('value', None))\n",
      "\u001b[1;32m~\\Anaconda3\\lib\\site-packages\\selenium\\webdriver\\remote\\errorhandler.py\u001b[0m in \u001b[0;36mcheck_response\u001b[1;34m(self, response)\u001b[0m\n\u001b[0;32m    240\u001b[0m                 \u001b[0malert_text\u001b[0m \u001b[1;33m=\u001b[0m \u001b[0mvalue\u001b[0m\u001b[1;33m[\u001b[0m\u001b[1;34m'alert'\u001b[0m\u001b[1;33m]\u001b[0m\u001b[1;33m.\u001b[0m\u001b[0mget\u001b[0m\u001b[1;33m(\u001b[0m\u001b[1;34m'text'\u001b[0m\u001b[1;33m)\u001b[0m\u001b[1;33m\u001b[0m\u001b[0m\n\u001b[0;32m    241\u001b[0m             \u001b[1;32mraise\u001b[0m \u001b[0mexception_class\u001b[0m\u001b[1;33m(\u001b[0m\u001b[0mmessage\u001b[0m\u001b[1;33m,\u001b[0m \u001b[0mscreen\u001b[0m\u001b[1;33m,\u001b[0m \u001b[0mstacktrace\u001b[0m\u001b[1;33m,\u001b[0m \u001b[0malert_text\u001b[0m\u001b[1;33m)\u001b[0m\u001b[1;33m\u001b[0m\u001b[0m\n\u001b[1;32m--> 242\u001b[1;33m         \u001b[1;32mraise\u001b[0m \u001b[0mexception_class\u001b[0m\u001b[1;33m(\u001b[0m\u001b[0mmessage\u001b[0m\u001b[1;33m,\u001b[0m \u001b[0mscreen\u001b[0m\u001b[1;33m,\u001b[0m \u001b[0mstacktrace\u001b[0m\u001b[1;33m)\u001b[0m\u001b[1;33m\u001b[0m\u001b[0m\n\u001b[0m\u001b[0;32m    243\u001b[0m \u001b[1;33m\u001b[0m\u001b[0m\n\u001b[0;32m    244\u001b[0m     \u001b[1;32mdef\u001b[0m \u001b[0m_value_or_default\u001b[0m\u001b[1;33m(\u001b[0m\u001b[0mself\u001b[0m\u001b[1;33m,\u001b[0m \u001b[0mobj\u001b[0m\u001b[1;33m,\u001b[0m \u001b[0mkey\u001b[0m\u001b[1;33m,\u001b[0m \u001b[0mdefault\u001b[0m\u001b[1;33m)\u001b[0m\u001b[1;33m:\u001b[0m\u001b[1;33m\u001b[0m\u001b[0m\n",
      "\u001b[1;31mWebDriverException\u001b[0m: Message: chrome not reachable\n  (Session info: chrome=70.0.3538.77)\n  (Driver info: chromedriver=2.42.591088 (7b2b2dca23cca0862f674758c9a3933e685c27d5),platform=Windows NT 10.0.17134 x86_64)\n"
     ]
    }
   ],
   "source": [
    "url = \"https://astrogeology.usgs.gov/search/results?q=hemisphere+enhanced&k1=target&v1=Mars\"\n",
    "# https://astrogeology.usgs.gov/search/results?q=hemisphere+enhanced&k1=target&v1=Mars\n",
    "# url = 'https://astrogeology.usgs.gov/search/map/Mars/Viking/cerberus_enhanced'\n",
    "browser.visit(url)"
   ]
  },
  {
   "cell_type": "code",
   "execution_count": null,
   "metadata": {},
   "outputs": [],
   "source": [
    "response = requests.get(url)"
   ]
  },
  {
   "cell_type": "code",
   "execution_count": null,
   "metadata": {},
   "outputs": [],
   "source": [
    "soup = bs(browser.html, 'html.parser')"
   ]
  },
  {
   "cell_type": "code",
   "execution_count": 57,
   "metadata": {},
   "outputs": [
    {
     "name": "stdout",
     "output_type": "stream",
     "text": [
      "<!DOCTYPE html>\n",
      "<html lang=\"en\" xmlns=\"http://www.w3.org/1999/xhtml\">\n",
      " <head>\n",
      "  <link href=\"//ajax.googleapis.com/ajax/libs/jqueryui/1.11.4/themes/smoothness/jquery-ui.css\" rel=\"stylesheet\" type=\"text/css\"/>\n",
      "  <title>\n",
      "   Valles Marineris Hemisphere Enhanced | USGS Astrogeology Science Center\n",
      "  </title>\n",
      "  <meta content=\"Mosaic of the Valles Marineris hemisphere of Mars projected into point perspective, a view similar to that which one would…\" name=\"description\"/>\n",
      "  <meta content=\"USGS,Astrogeology Science Center,Cartography,Geology,Space,Geological Survey,Mapping\" name=\"keywords\"/>\n",
      "  <meta content=\"IE=edge\" http-equiv=\"X-UA-Compatible\"/>\n",
      "  <meta content=\"text/html; charset=utf-8\" http-equiv=\"Content-Type\"/>\n",
      "  <meta content=\"width=device-width, initial-scale=1, maximum-scale=1\" name=\"viewport\"/>\n",
      "  <meta content=\"x61hXXVj7wtfBSNOPnTftajMsZ5yB2W-qRoyr7GtOKM\" name=\"google-site-verification\"/>\n",
      "  <!--<link rel=\"stylesheet\" href=\"http://fonts.googleapis.com/css?family=Open+Sans:400italic,400,bold\"/>-->\n",
      "  <link href=\"/css/main.css\" media=\"screen\" rel=\"stylesheet\"/>\n",
      "  <link href=\"/css/print.css\" media=\"print\" rel=\"stylesheet\"/>\n",
      "  <!--[if lt IE 9]>\n",
      "\t\t\t<script src=\"http://html5shiv.googlecode.com/svn/trunk/html5.js\"></script>\n",
      "\t\t\t<script src=\"/js/respond.min.js\"></script>\n",
      "\t\t\t<link rel=\"stylesheet\" type=\"text/css\" href=\"/css/ie.css\"/>\n",
      "                        <script>\n",
      "                          document.createElement('header');\n",
      "                          document.createElement('nav');\n",
      "                          document.createElement('section');\n",
      "                          document.createElement('article');\n",
      "                          document.createElement('aside');\n",
      "                          document.createElement('footer');\n",
      "                          document.createElement('hgroup');\n",
      "                        </script>\n",
      "                  <![endif]-->\n",
      "  <link href=\"/favicon.ico\" rel=\"icon\" type=\"image/x-ico\"/>\n",
      " </head>\n",
      " <body id=\"splashy\">\n",
      "  <header>\n",
      "   <h1>\n",
      "    Astrogeology Science Center\n",
      "   </h1>\n",
      "   <a href=\"http://www.usgs.gov\">\n",
      "    <img alt=\"USGS: Science for a Changing World\" class=\"logo\" height=\"70\" src=\"/images/usgs_logo_main_2x.png\" width=\"180\"/>\n",
      "   </a>\n",
      "  </header>\n",
      "  <div class=\"wrapper\">\n",
      "   <nav>\n",
      "    <a href=\"#\" id=\"nav-toggle\" title=\"Navigation Menu\">\n",
      "     Menu\n",
      "    </a>\n",
      "    <ul class=\"dropdown dropdown-horizontal\" id=\"yw0\">\n",
      "     <li>\n",
      "      <a href=\"/\">\n",
      "       Home\n",
      "      </a>\n",
      "     </li>\n",
      "     <li>\n",
      "      <a href=\"/about\">\n",
      "       About\n",
      "      </a>\n",
      "      <ul>\n",
      "       <li>\n",
      "        <a href=\"/about/careers\">\n",
      "         Careers\n",
      "        </a>\n",
      "       </li>\n",
      "       <li>\n",
      "        <a href=\"/contact\">\n",
      "         Contact\n",
      "        </a>\n",
      "       </li>\n",
      "       <li>\n",
      "        <a href=\"/about/events\">\n",
      "         Events\n",
      "        </a>\n",
      "       </li>\n",
      "       <li>\n",
      "        <a href=\"/site/glossary\">\n",
      "         Glossary\n",
      "        </a>\n",
      "       </li>\n",
      "       <li>\n",
      "        <a href=\"/about/mission\">\n",
      "         Mission\n",
      "        </a>\n",
      "       </li>\n",
      "       <li>\n",
      "        <a href=\"/news\">\n",
      "         News\n",
      "        </a>\n",
      "       </li>\n",
      "       <li>\n",
      "        <a href=\"/people\">\n",
      "         People\n",
      "        </a>\n",
      "       </li>\n",
      "       <li>\n",
      "        <a href=\"/about/using-our-images\">\n",
      "         Using Our Images\n",
      "        </a>\n",
      "       </li>\n",
      "       <li>\n",
      "        <a href=\"/about/visitors\">\n",
      "         Visitors\n",
      "        </a>\n",
      "       </li>\n",
      "      </ul>\n",
      "     </li>\n",
      "     <li>\n",
      "      <a href=\"/facilities\">\n",
      "       Labs / Facilities\n",
      "      </a>\n",
      "      <ul>\n",
      "       <li>\n",
      "        <a href=\"/facilities/flynn-creek-crater-sample-collection\">\n",
      "         Flynn Creek Crater Sample Collection\n",
      "        </a>\n",
      "       </li>\n",
      "       <li>\n",
      "        <a href=\"http://www.moon-cal.org\">\n",
      "         Lunar Calibration Project\n",
      "        </a>\n",
      "       </li>\n",
      "       <li>\n",
      "        <a href=\"/facilities/meteor-crater-sample-collection\">\n",
      "         Meteor Crater Sample Collection\n",
      "        </a>\n",
      "       </li>\n",
      "       <li>\n",
      "        <a href=\"/facilities/mrctr\">\n",
      "         MRCTR GIS Lab\n",
      "        </a>\n",
      "       </li>\n",
      "       <li>\n",
      "        <a href=\"/facilities/cartography-and-imaging-sciences-node-of-nasa-planetary-data-system\">\n",
      "         PDS Cartography and Imaging Sciences Node\n",
      "        </a>\n",
      "       </li>\n",
      "       <li>\n",
      "        <a href=\"/pds/annex\">\n",
      "         PDS IMG Annex\n",
      "        </a>\n",
      "       </li>\n",
      "       <li>\n",
      "        <a href=\"/facilities/photogrammetry-guest-facility\">\n",
      "         Photogrammetry Guest Facility\n",
      "        </a>\n",
      "       </li>\n",
      "       <li>\n",
      "        <a href=\"/rpif\">\n",
      "         Regional Planetary Information Facility (RPIF)\n",
      "        </a>\n",
      "       </li>\n",
      "      </ul>\n",
      "     </li>\n",
      "     <li>\n",
      "      <a href=\"/maps\">\n",
      "       Maps / Products\n",
      "      </a>\n",
      "      <ul>\n",
      "       <li>\n",
      "        <a href=\"/search\">\n",
      "         Product Search\n",
      "        </a>\n",
      "       </li>\n",
      "       <li>\n",
      "        <a href=\"http://planetarynames.wr.usgs.gov\">\n",
      "         Gazetteer of Planetary Nomenclature\n",
      "        </a>\n",
      "       </li>\n",
      "       <li>\n",
      "        <a href=\"http://planetarymapping.wr.usgs.gov\">\n",
      "         Geologic Mapping Program\n",
      "        </a>\n",
      "       </li>\n",
      "       <li>\n",
      "        <a href=\"http://pilot.wr.usgs.gov\">\n",
      "         Planetary Image Locator Tool (PILOT)\n",
      "        </a>\n",
      "       </li>\n",
      "       <li>\n",
      "        <a href=\"/search/planetary-index\">\n",
      "         Planetary Map Index\n",
      "        </a>\n",
      "       </li>\n",
      "      </ul>\n",
      "     </li>\n",
      "     <li>\n",
      "      <a href=\"/geology\">\n",
      "       Missions / Research\n",
      "      </a>\n",
      "      <ul>\n",
      "       <li>\n",
      "        <a href=\"/geology/mars-dunes\">\n",
      "         Mars Dunes\n",
      "        </a>\n",
      "       </li>\n",
      "       <li>\n",
      "        <a href=\"/geology/mars-ice\">\n",
      "         Mars Ice\n",
      "        </a>\n",
      "       </li>\n",
      "       <li>\n",
      "        <a href=\"/missions\">\n",
      "         Mission Support\n",
      "        </a>\n",
      "       </li>\n",
      "       <li>\n",
      "        <a href=\"/solar-system\">\n",
      "         Solar System\n",
      "        </a>\n",
      "       </li>\n",
      "       <li>\n",
      "        <a href=\"/groups\">\n",
      "         Working Groups\n",
      "        </a>\n",
      "       </li>\n",
      "      </ul>\n",
      "     </li>\n",
      "     <li>\n",
      "      <a href=\"/tools\">\n",
      "       Tools\n",
      "      </a>\n",
      "      <ul>\n",
      "       <li>\n",
      "        <a href=\"http://planetarynames.wr.usgs.gov\">\n",
      "         Gazetteer of Planetary Nomenclature\n",
      "        </a>\n",
      "       </li>\n",
      "       <li>\n",
      "        <a href=\"http://isis.astrogeology.usgs.gov\">\n",
      "         Integrated Software for Imagers and Spectrometers (ISIS)\n",
      "        </a>\n",
      "       </li>\n",
      "       <li>\n",
      "        <a href=\"http://astrogeology.usgs.gov/tools/map-a-planet-2\">\n",
      "         Map a Planet 2\n",
      "        </a>\n",
      "       </li>\n",
      "       <li>\n",
      "        <a href=\"http://pilot.wr.usgs.gov\">\n",
      "         Planetary Image Locator Tool (PILOT)\n",
      "        </a>\n",
      "       </li>\n",
      "       <li>\n",
      "        <a href=\"http://astrocloud.wr.usgs.gov/\">\n",
      "         Projection on the Web (POW)\n",
      "        </a>\n",
      "       </li>\n",
      "      </ul>\n",
      "     </li>\n",
      "    </ul>\n",
      "    <form action=\"/search/results\" class=\"search\" id=\"search\" method=\"get\">\n",
      "     <input title=\"Search Astropedia\" type=\"submit\" value=\"\"/>\n",
      "     <input name=\"q\" placeholder=\"Search\" type=\"text\"/>\n",
      "     <input name=\"__ncforminfo\" type=\"hidden\" value=\"cOANJ5aj4WIenDi6n75A8n8LvqbI0zw72FWwyjjJO0j5yeQJ0MRTGsCZz4cWr-fc-T80WX4Dzsd1vbSMHfgAlUrI7amKJT0dmcMzvKOADvQ=\"/>\n",
      "    </form>\n",
      "   </nav>\n",
      "   <div class=\"container\">\n",
      "    <div class=\"widget block bar\">\n",
      "     <a href=\"/search\" style=\"float:left\">\n",
      "      <img alt=\"Astropedia\" src=\"/images/astropedia/astropedia-logo-main.png\" style=\"width:200px;border:none;\"/>\n",
      "      <h3>\n",
      "       Product Details\n",
      "      </h3>\n",
      "     </a>\n",
      "    </div>\n",
      "    <div class=\"wide-image-wrapper \" id=\"wide-image\">\n",
      "     <div class=\"downloads\">\n",
      "      <img class=\"thumb\" src=\"/cache/images/04085d99ec3713883a9a57f42be9c725_valles_marineris_enhanced.tif_thumb.png\"/>\n",
      "      <h3>\n",
      "       Download\n",
      "      </h3>\n",
      "      <ul>\n",
      "       <li>\n",
      "        <a href=\"http://astropedia.astrogeology.usgs.gov/download/Mars/Viking/valles_marineris_enhanced.tif/full.jpg\" target=\"_blank\">\n",
      "         Sample\n",
      "        </a>\n",
      "        (jpg) 1024px wide\n",
      "       </li>\n",
      "       <li>\n",
      "        <a href=\"http://astropedia.astrogeology.usgs.gov/download/Mars/Viking/valles_marineris_enhanced.tif\" target=\"_blank\">\n",
      "         Original\n",
      "        </a>\n",
      "        (tif\n",
      "        <span class=\"tooltip word-tif\" title=\"\">\n",
      "        </span>\n",
      "        ) 27 MB\n",
      "       </li>\n",
      "      </ul>\n",
      "     </div>\n",
      "     <img class=\"wide-image\" src=\"/cache/images/7cf2da4bf549ed01c17f206327be4db7_valles_marineris_enhanced.tif_full.jpg\"/>\n",
      "     <a class=\"open-toggle\" href=\"#open\" id=\"wide-image-toggle\">\n",
      "      Open\n",
      "     </a>\n",
      "    </div>\n",
      "    <div class=\"content\">\n",
      "     <section class=\"block metadata\">\n",
      "      <a class=\"button\" href=\"/search/results?q=hemisphere+enhanced&amp;k1=target&amp;v1=Mars\">\n",
      "       Back\n",
      "      </a>\n",
      "      <h2 class=\"title\">\n",
      "       Valles Marineris Hemisphere Enhanced\n",
      "      </h2>\n",
      "      <p>\n",
      "       Mosaic of the Valles Marineris hemisphere of Mars projected into point perspective, a view similar to that which one would see from a spacecraft. The distance is 2500 kilometers from the surface of the planet, with the scale being .6km/pixel. The mosaic is composed of 102 Viking Orbiter images of Mars. The center of the scene (lat -8, long 78) shows the entire Valles Marineris canyon system, over 2000 kilometers long and up to 8 kilometers deep, extending form Noctis Labyrinthus, the arcuate system of graben to the west, to the chaotic terrain to the east. Many huge ancient river channels begin from the chaotic terrain from north-central canyons and run north. The three Tharsis volcanoes (dark red spots), each about 25 kilometers high, are visible to the west. South of Valles Marineris is very ancient terrain covered by many impact craters.\n",
      "      </p>\n",
      "      <dl>\n",
      "       <dt>\n",
      "        Mimetype\n",
      "       </dt>\n",
      "       <dd>\n",
      "        <a href=\"/search/results?m=image/tiff\">\n",
      "         image/tiff\n",
      "        </a>\n",
      "       </dd>\n",
      "       <dt>\n",
      "        Filename\n",
      "       </dt>\n",
      "       <dd>\n",
      "        <a href=\"http://astropedia.astrogeology.usgs.gov/download/Mars/Viking/valles_marineris_enhanced.tif\">\n",
      "         valles_marineris_enhanced.tif\n",
      "         <span class=\"tooltip word-tif\" title=\"\">\n",
      "         </span>\n",
      "        </a>\n",
      "       </dd>\n",
      "       <dt>\n",
      "        Originator\n",
      "       </dt>\n",
      "       <dd>\n",
      "       </dd>\n",
      "       <dt>\n",
      "        Group\n",
      "       </dt>\n",
      "       <dd>\n",
      "       </dd>\n",
      "       <dt>\n",
      "        Added to Astropedia\n",
      "       </dt>\n",
      "       <dd>\n",
      "        29 September 2011\n",
      "       </dd>\n",
      "       <dt>\n",
      "        Modified\n",
      "       </dt>\n",
      "       <dd>\n",
      "        3 November 2017\n",
      "       </dd>\n",
      "      </dl>\n",
      "      <h2>\n",
      "       General\n",
      "      </h2>\n",
      "      <dl>\n",
      "       <dt>\n",
      "        Geospatial Data Presentation Form\n",
      "       </dt>\n",
      "       <dd>\n",
      "        <a href=\"/search/results?k1=geospatial_data_presentation_form&amp;v1=Global+Mosaic\">\n",
      "         Global Mosaic\n",
      "        </a>\n",
      "       </dd>\n",
      "      </dl>\n",
      "      <h2>\n",
      "       Keywords\n",
      "      </h2>\n",
      "      <dl>\n",
      "       <dt>\n",
      "        Target\n",
      "       </dt>\n",
      "       <dd>\n",
      "        <a href=\"/search/results?k1=target&amp;v1=Mars\">\n",
      "         Mars\n",
      "        </a>\n",
      "       </dd>\n",
      "       <dt>\n",
      "        Theme\n",
      "       </dt>\n",
      "       <dd>\n",
      "        <a href=\"/search/results?k1=theme&amp;v1=Canyons\">\n",
      "         Canyons\n",
      "        </a>\n",
      "       </dd>\n",
      "       <dt>\n",
      "        Mission\n",
      "       </dt>\n",
      "       <dd>\n",
      "        <a href=\"/search/results?k1=mission&amp;v1=Viking+Orbiter\">\n",
      "         Viking Orbiter\n",
      "        </a>\n",
      "       </dd>\n",
      "      </dl>\n",
      "      <h2>\n",
      "       Geospatial Information\n",
      "      </h2>\n",
      "      <dl>\n",
      "       <dt>\n",
      "        Quad Name\n",
      "       </dt>\n",
      "       <dd>\n",
      "       </dd>\n",
      "      </dl>\n",
      "     </section>\n",
      "    </div>\n",
      "    <div class=\"sidebar\">\n",
      "     <div class=\"block\">\n",
      "      <h3 class=\"title\">\n",
      "       Related Products\n",
      "      </h3>\n",
      "      <a class=\"item\" href=\"/search/map/Mars/Viking/valles_marineris_unenhanced\">\n",
      "       <img alt=\"Valles Marineris Hemisphere Unenhanced thumbnail\" class=\"thumb description-thumb\" src=\"/cache/images/624683252b31408dabbc5c051b12a777_valles_marineris_unenhanced.tif_thumb.png\"/>\n",
      "       <div class=\"description\">\n",
      "        <h3>\n",
      "         Valles Marineris Hemisphere Unenhanced\n",
      "        </h3>\n",
      "        <p>\n",
      "         Mosaic of the Valles Marineris hemisphere of Mars projected into…\n",
      "        </p>\n",
      "       </div>\n",
      "      </a>\n",
      "      <a class=\"item\" href=\"/search/map/Mars/Viking/syrtis_major_unenhanced\">\n",
      "       <img alt=\"Syrtis Major Hemisphere Unenhanced thumbnail\" class=\"thumb description-thumb\" src=\"/cache/images/0039e532ab44f7836f8a384d6f9adc3f_syrtis_major_unenhanced.tif_thumb.png\"/>\n",
      "       <div class=\"description\">\n",
      "        <h3>\n",
      "         Syrtis Major Hemisphere Unenhanced\n",
      "        </h3>\n",
      "        <p>\n",
      "         Mosaic of the Syrtis Major hemisphere of Mars projected into point…\n",
      "        </p>\n",
      "       </div>\n",
      "      </a>\n",
      "      <a class=\"item\" href=\"/search/map/Mars/Viking/syrtis_major_enhanced\">\n",
      "       <img alt=\"Syrtis Major Hemisphere Enhanced thumbnail\" class=\"thumb description-thumb\" src=\"/cache/images/aae41197e40d6d4f3ea557f8cfe51d15_syrtis_major_enhanced.tif_thumb.png\"/>\n",
      "       <div class=\"description\">\n",
      "        <h3>\n",
      "         Syrtis Major Hemisphere Enhanced\n",
      "        </h3>\n",
      "        <p>\n",
      "         Mosaic of the Syrtis Major hemisphere of Mars projected into point…\n",
      "        </p>\n",
      "       </div>\n",
      "      </a>\n",
      "      <a class=\"item\" href=\"/search/map/Mars/Viking/schiaparelli_unenhanced\">\n",
      "       <img alt=\"Schiaparelli Hemisphere Unenhanced thumbnail\" class=\"thumb description-thumb\" src=\"/cache/images/eeda48b8f032727970d735b2b689937c_schiaparelli_unenhanced.tif_thumb.png\"/>\n",
      "       <div class=\"description\">\n",
      "        <h3>\n",
      "         Schiaparelli Hemisphere Unenhanced\n",
      "        </h3>\n",
      "        <p>\n",
      "         Mosaic of the Schiaparelli hemisphere of Mars projected into point…\n",
      "        </p>\n",
      "       </div>\n",
      "      </a>\n",
      "      <a class=\"item\" href=\"/search/map/Mars/Viking/schiaparelli_enhanced\">\n",
      "       <img alt=\"Schiaparelli Hemisphere Enhanced thumbnail\" class=\"thumb description-thumb\" src=\"/cache/images/7677c0a006b83871b5a2f66985ab5857_schiaparelli_enhanced.tif_thumb.png\"/>\n",
      "       <div class=\"description\">\n",
      "        <h3>\n",
      "         Schiaparelli Hemisphere Enhanced\n",
      "        </h3>\n",
      "        <p>\n",
      "         Mosaic of the Schiaparelli hemisphere of Mars projected into point…\n",
      "        </p>\n",
      "       </div>\n",
      "      </a>\n",
      "      <ul class=\"page-numbers\">\n",
      "       <li>\n",
      "        <a class=\"active \" href=\"/search/map/Mars/Viking/valles_marineris_enhanced?p=1&amp;pb=1#downloads\">\n",
      "         1\n",
      "        </a>\n",
      "       </li>\n",
      "       <li>\n",
      "        <a class=\"\" href=\"/search/map/Mars/Viking/valles_marineris_enhanced?p=2&amp;pb=1#downloads\">\n",
      "         2\n",
      "        </a>\n",
      "       </li>\n",
      "      </ul>\n",
      "     </div>\n",
      "    </div>\n",
      "   </div>\n",
      "   <div class=\"icons projects black scroll-wrapper\">\n",
      "    <div class=\"scroll\">\n",
      "     <a class=\"icon\" href=\"http://isis.astrogeology.usgs.gov\" title=\"Integrated Software for Imagers and Spectrometers\">\n",
      "      <img alt=\"ISIS Logo\" height=\"112\" src=\"/images/logos/isis_2x.jpg\" width=\"112\"/>\n",
      "      <span class=\"label\">\n",
      "       ISIS\n",
      "      </span>\n",
      "     </a>\n",
      "     <a class=\"icon\" href=\"http://planetarynames.wr.usgs.gov\" title=\"Gazetteer of Planetary Nomenclature\">\n",
      "      <img alt=\"Nomenclature Logo\" height=\"112\" src=\"/images/logos/nomenclature_2x.jpg\" width=\"112\"/>\n",
      "      <span class=\"label\">\n",
      "       Planetary Nomenclature\n",
      "      </span>\n",
      "     </a>\n",
      "     <a class=\"icon\" href=\"http://astrogeology.usgs.gov/tools/map\" title=\"Map a Planet 2\">\n",
      "      <img alt=\"Map-a-Planet Logo\" height=\"112\" src=\"/images/logos/map_a_planet_2x.jpg\" width=\"112\"/>\n",
      "      <span class=\"label\">\n",
      "       Map a Planet 2\n",
      "      </span>\n",
      "     </a>\n",
      "     <a class=\"icon\" href=\"/facilities/imaging-node-of-nasa-planetary-data-system-pds\" title=\"PDS Imaging Node\">\n",
      "      <img alt=\"PDS Logo\" height=\"112\" src=\"/images/pds_logo-black-web.png\"/>\n",
      "      <span class=\"label\">\n",
      "       PDS Imaging Node\n",
      "      </span>\n",
      "     </a>\n",
      "     <!--\n",
      "\t\t\t\t\t\t<a title=\"Astropedia Search\" href=\"/search\" class=\"icon\">\n",
      "\t\t\t\t\t\t\t<img alt=\"Astropedia Logo\" height=\"112\" width=\"112\" src=\"/images/logos/astropedia_2x.jpg\"/>\n",
      "\t\t\t\t\t\t\t<span class=\"label\">Astropedia</span>\n",
      "\t\t\t\t\t\t</a>\n",
      "-->\n",
      "     <a class=\"icon\" href=\"/rpif\" title=\"Regional Planetary Image Facility\">\n",
      "      <img alt=\"RPIF Logo\" height=\"112\" src=\"/images/logos/rpif_2x.jpg\" width=\"112\"/>\n",
      "      <span class=\"label\">\n",
      "       RPIF\n",
      "      </span>\n",
      "     </a>\n",
      "     <a class=\"icon\" href=\"/facilities/photogrammetry-guest-facility\" title=\"Photogrammetry Guest Facility\">\n",
      "      <img alt=\"Photogrammetry Guest Faciltiy Logo\" height=\"112\" src=\"/images/logos/photogrammetry_2x.jpg\" width=\"112\"/>\n",
      "      <span class=\"label\">\n",
      "       Photogrammetry Guest Facility\n",
      "      </span>\n",
      "     </a>\n",
      "     <a class=\"icon\" href=\"http://pilot.wr.usgs.gov\" title=\"Planetary Image Locator Tool\">\n",
      "      <img alt=\"Pilot Logo\" height=\"112\" src=\"/images/logos/pilot_2x.jpg\" width=\"112\"/>\n",
      "      <span class=\"label\">\n",
      "       PILOT\n",
      "      </span>\n",
      "     </a>\n",
      "     <a class=\"icon\" href=\"/facilities/mrctr\" title=\"Mapping, Remote-sensing, Cartography, Technology and Research GIS Lab\">\n",
      "      <img alt=\"MRCTR GIS Lab Logo\" height=\"112\" src=\"/images/logos/mrctr_2x.jpg\" width=\"112\"/>\n",
      "      <span class=\"label\">\n",
      "       MRCTR GIS Lab\n",
      "      </span>\n",
      "     </a>\n",
      "    </div>\n",
      "   </div>\n",
      "   <footer>\n",
      "    <div class=\"left\">\n",
      "     <a href=\"http://astrogeology.usgs.gov\">\n",
      "      Home\n",
      "     </a>\n",
      "     |\n",
      "     <a href=\"http://astrogeology.usgs.gov/contact\">\n",
      "      Contact\n",
      "     </a>\n",
      "     |\n",
      "     <a href=\"http://astrogeology.usgs.gov/about/events\">\n",
      "      Events\n",
      "     </a>\n",
      "     |\n",
      "     <a href=\"http://astrogeology.usgs.gov/news\">\n",
      "      News\n",
      "     </a>\n",
      "    </div>\n",
      "    <div class=\"right\">\n",
      "     <a href=\"http://www.doi.gov\">\n",
      "      U.S. Department of Interior\n",
      "     </a>\n",
      "     |\n",
      "     <a href=\"http://www.usgs.gov\">\n",
      "      U.S. Geological Survey\n",
      "     </a>\n",
      "     |\n",
      "     <a href=\"http://www.usa.gov\">\n",
      "      USA.gov\n",
      "     </a>\n",
      "    </div>\n",
      "   </footer>\n",
      "  </div>\n",
      "  <!--\n",
      "\t\t<div class=\"credit\">\n",
      "\t\t\t<small>Background Credits: NASA/USGS</small>\n",
      "\t\t</div>\n",
      "-->\n",
      "  <div class=\"page-background\" style=\"\n",
      "\t\t\tbackground:url('/images/backgrounds/mars.jpg');\n",
      "\t\t\tfilter:progid:DXImageTransform.Microsoft.AlphaImageLoader(\n",
      "\t\t\t\tsrc='/images/backgrounds/mars.jpg', sizingMethod='scale');\n",
      "\t\t\">\n",
      "  </div>\n",
      "  <script async=\"\" src=\"https://ssl.google-analytics.com/ga.js\" type=\"text/javascript\">\n",
      "  </script>\n",
      "  <script type=\"text/javascript\">\n",
      "   var baseUrl = \"\";\n",
      "\n",
      "\n",
      "var _gaq = _gaq || [];_gaq.push(['_setAccount', 'UA-27613186-1']);_gaq.push(['_trackPageview']);(function() { var ga = document.createElement('script'); ga.type = 'text/javascript'; ga.async = true;ga.src = ('https:' == document.location.protocol ? 'https://ssl' : 'http://www') + '.google-analytics.com/ga.js'; var s = document.getElementsByTagName('script')[0]; s.parentNode.insertBefore(ga, s);})();\n",
      "  </script>\n",
      "  <script src=\"https://ajax.googleapis.com/ajax/libs/jquery/1.11.1/jquery.min.js\" type=\"text/javascript\">\n",
      "  </script>\n",
      "  <script src=\"//ajax.googleapis.com/ajax/libs/jqueryui/1.11.4/jquery-ui.min.js\" type=\"text/javascript\">\n",
      "  </script>\n",
      "  <script src=\"https://astropedia.astrogeology.usgs.gov/downloadWeb/dynamic/glossary.js\" type=\"text/javascript\">\n",
      "  </script>\n",
      "  <script src=\"/js/astro-tips.js\" type=\"text/javascript\">\n",
      "  </script>\n",
      "  <script src=\"/js/general.js\" type=\"text/javascript\">\n",
      "  </script>\n",
      "  <script type=\"text/javascript\">\n",
      "   /*&lt;![CDATA[*/\n",
      "showTooltips(\".downloads, .content dl, .listing\", true);\n",
      "/*]]&gt;*/\n",
      "  </script>\n",
      "  <div aria-live=\"assertive\" aria-relevant=\"additions\" class=\"ui-helper-hidden-accessible\" role=\"log\">\n",
      "  </div>\n",
      "  <div aria-live=\"assertive\" aria-relevant=\"additions\" class=\"ui-helper-hidden-accessible\" role=\"log\">\n",
      "  </div>\n",
      " </body>\n",
      "</html>\n"
     ]
    }
   ],
   "source": [
    "print(soup.prettify())"
   ]
  },
  {
   "cell_type": "code",
   "execution_count": 58,
   "metadata": {
    "scrolled": false
   },
   "outputs": [
    {
     "data": {
      "text/plain": [
       "[<h2 class=\"title\">Valles Marineris Hemisphere Enhanced</h2>,\n",
       " <h2>General</h2>,\n",
       " <h2>Keywords</h2>,\n",
       " <h2>Geospatial Information</h2>]"
      ]
     },
     "execution_count": 58,
     "metadata": {},
     "output_type": "execute_result"
    }
   ],
   "source": [
    "# print(soup.prettify())\n",
    "soup.find_all('h2')\n"
   ]
  },
  {
   "cell_type": "code",
   "execution_count": 59,
   "metadata": {},
   "outputs": [
    {
     "data": {
      "text/plain": [
       "[<h3>Product Details</h3>,\n",
       " <h3>Download</h3>,\n",
       " <h3 class=\"title\">Related Products</h3>,\n",
       " <h3>Valles Marineris Hemisphere Unenhanced</h3>,\n",
       " <h3>Syrtis Major Hemisphere Unenhanced</h3>,\n",
       " <h3>Syrtis Major Hemisphere Enhanced</h3>,\n",
       " <h3>Schiaparelli Hemisphere Unenhanced</h3>,\n",
       " <h3>Schiaparelli Hemisphere Enhanced</h3>]"
      ]
     },
     "execution_count": 59,
     "metadata": {},
     "output_type": "execute_result"
    }
   ],
   "source": [
    "soup.find_all('h3')"
   ]
  },
  {
   "cell_type": "code",
   "execution_count": 53,
   "metadata": {},
   "outputs": [
    {
     "data": {
      "text/plain": [
       "'Product Details'"
      ]
     },
     "execution_count": 53,
     "metadata": {},
     "output_type": "execute_result"
    }
   ],
   "source": [
    "hemisphere_title3 = soup.select_one(\"div h3:nth-of-type(9)\").text\n",
    "hemisphere_title3"
   ]
  },
  {
   "cell_type": "code",
   "execution_count": 25,
   "metadata": {},
   "outputs": [],
   "source": [
    "# xpath = '//*[@id=\"product-section\"]/div[2]/div[1]/a/img'"
   ]
  },
  {
   "cell_type": "code",
   "execution_count": 44,
   "metadata": {},
   "outputs": [
    {
     "data": {
      "text/plain": [
       "'Schiaparelli Hemisphere Enhanced'"
      ]
     },
     "execution_count": 44,
     "metadata": {},
     "output_type": "execute_result"
    }
   ],
   "source": [
    "hemisphere_title4 = soup.select_one(\"div h3:nth-of-type(8)\").text\n",
    "hemisphere_title4"
   ]
  },
  {
   "cell_type": "code",
   "execution_count": 60,
   "metadata": {},
   "outputs": [
    {
     "data": {
      "text/plain": [
       "'Syrtis Major Hemisphere Enhanced'"
      ]
     },
     "execution_count": 60,
     "metadata": {},
     "output_type": "execute_result"
    }
   ],
   "source": [
    "hemisphere_title1 = soup.select_one(\"div h3:nth-of-type(6)\").text\n",
    "hemisphere_title1"
   ]
  },
  {
   "cell_type": "code",
   "execution_count": 62,
   "metadata": {},
   "outputs": [
    {
     "data": {
      "text/plain": [
       "'Valles Marineris Hemisphere Unenhanced'"
      ]
     },
     "execution_count": 62,
     "metadata": {},
     "output_type": "execute_result"
    }
   ],
   "source": [
    "hemisphere_title2 = soup.select_one(\"div h3:nth-of-type(4)\").text\n",
    "hemisphere_title2"
   ]
  },
  {
   "cell_type": "code",
   "execution_count": 29,
   "metadata": {},
   "outputs": [],
   "source": [
    "# click on 1st hemisphere title\n",
    "xpath = '//*[@id=\"product-section\"]/div[2]/div[1]/a/img'\n",
    "results = browser.find_by_xpath(xpath)\n",
    "img = results[0]\n",
    "img.click()\n",
    "import time\n",
    "time.sleep(5)"
   ]
  },
  {
   "cell_type": "code",
   "execution_count": 30,
   "metadata": {},
   "outputs": [
    {
     "name": "stdout",
     "output_type": "stream",
     "text": [
      "http://astropedia.astrogeology.usgs.gov/download/Mars/Viking/cerberus_enhanced.tif/full.jpg\n"
     ]
    }
   ],
   "source": [
    "# get the full image link\n",
    "html = browser.html\n",
    "soup = bs(html, 'lxml')\n",
    "parent_div = soup.find('div', class_= 'downloads')\n",
    "link = parent_div.find('a')\n",
    "img_url = link['href']\n",
    "print(img_url)"
   ]
  },
  {
   "cell_type": "code",
   "execution_count": 31,
   "metadata": {},
   "outputs": [
    {
     "ename": "NameError",
     "evalue": "name 'hemisphere_title' is not defined",
     "output_type": "error",
     "traceback": [
      "\u001b[1;31m---------------------------------------------------------------------------\u001b[0m",
      "\u001b[1;31mNameError\u001b[0m                                 Traceback (most recent call last)",
      "\u001b[1;32m<ipython-input-31-40555cf3e870>\u001b[0m in \u001b[0;36m<module>\u001b[1;34m()\u001b[0m\n\u001b[0;32m      1\u001b[0m \u001b[1;31m# save the image url string for the full resolution hemisphere image and the Hemisphere title\u001b[0m\u001b[1;33m\u001b[0m\u001b[1;33m\u001b[0m\u001b[0m\n\u001b[0;32m      2\u001b[0m hemisphere_image_urls = [\n\u001b[1;32m----> 3\u001b[1;33m     \u001b[1;33m{\u001b[0m\u001b[1;34m\"title\"\u001b[0m\u001b[1;33m:\u001b[0m \u001b[0mhemisphere_title\u001b[0m\u001b[1;33m,\u001b[0m \u001b[1;34m\"img_url\"\u001b[0m\u001b[1;33m:\u001b[0m \u001b[0mimg_url\u001b[0m\u001b[1;33m}\u001b[0m\u001b[1;33m\u001b[0m\u001b[0m\n\u001b[0m\u001b[0;32m      4\u001b[0m ]\n\u001b[0;32m      5\u001b[0m \u001b[0mprint\u001b[0m\u001b[1;33m(\u001b[0m\u001b[0mhemisphere_image_urls\u001b[0m\u001b[1;33m)\u001b[0m\u001b[1;33m\u001b[0m\u001b[0m\n",
      "\u001b[1;31mNameError\u001b[0m: name 'hemisphere_title' is not defined"
     ]
    }
   ],
   "source": [
    "# save the image url string for the full resolution hemisphere image and the Hemisphere title\n",
    "hemisphere_image_urls = [\n",
    "    {\"title\": hemisphere_title, \"img_url\": img_url}\n",
    "]\n",
    "print(hemisphere_image_urls)"
   ]
  },
  {
   "cell_type": "code",
   "execution_count": 32,
   "metadata": {},
   "outputs": [],
   "source": [
    "# return to previous page\n",
    "xpath = '//*[@id=\"splashy\"]/div[1]/div[1]/div[3]/section/a'\n",
    "results = browser.find_by_xpath(xpath)\n",
    "button = results[0]\n",
    "button.click()\n",
    "import time\n",
    "time.sleep(5)"
   ]
  },
  {
   "cell_type": "code",
   "execution_count": 33,
   "metadata": {},
   "outputs": [],
   "source": [
    "# click on 2nd hemisphere title\n",
    "xpath = '//*[@id=\"product-section\"]/div[2]/div[2]/div/a/h3'\n",
    "results = browser.find_by_xpath(xpath)\n",
    "img = results[0]\n",
    "img.click()\n",
    "import time\n",
    "time.sleep(5)"
   ]
  },
  {
   "cell_type": "code",
   "execution_count": 34,
   "metadata": {},
   "outputs": [
    {
     "name": "stdout",
     "output_type": "stream",
     "text": [
      "http://astropedia.astrogeology.usgs.gov/download/Mars/Viking/schiaparelli_enhanced.tif/full.jpg\n"
     ]
    }
   ],
   "source": [
    "# get the full image link\n",
    "html = browser.html\n",
    "soup = bs(html, 'lxml')\n",
    "parent_div = soup.find('div', class_= 'downloads')\n",
    "link = parent_div.find('a')\n",
    " \n",
    "print(img_url2)"
   ]
  },
  {
   "cell_type": "code",
   "execution_count": 35,
   "metadata": {},
   "outputs": [
    {
     "name": "stdout",
     "output_type": "stream",
     "text": [
      "[{'title': 'Schiaparelli Hemisphere Enhanced', 'img_url': 'http://astropedia.astrogeology.usgs.gov/download/Mars/Viking/schiaparelli_enhanced.tif/full.jpg'}]\n"
     ]
    }
   ],
   "source": [
    "# save the image url for the full resolution hemisphere image and the Hemisphere title\n",
    "hemisphere_image_urls2 = [\n",
    "    {\"title\": hemisphere_title2, \"img_url\": img_url2}\n",
    "]\n",
    "print(hemisphere_image_urls2)"
   ]
  },
  {
   "cell_type": "code",
   "execution_count": 36,
   "metadata": {},
   "outputs": [],
   "source": [
    "# return to previous page \n",
    "xpath = '//*[@id=\"splashy\"]/div[1]/div[1]/div[3]/section/a'\n",
    "results = browser.find_by_xpath(xpath)\n",
    "button = results[0]\n",
    "button.click()\n",
    "import time\n",
    "time.sleep(5)"
   ]
  },
  {
   "cell_type": "code",
   "execution_count": 37,
   "metadata": {},
   "outputs": [],
   "source": [
    "# click on 3rd hemisphere title\n",
    "xpath = '//*[@id=\"product-section\"]/div[2]/div[3]/div/a/h3'\n",
    "results = browser.find_by_xpath(xpath)\n",
    "img = results[0]\n",
    "img.click()\n",
    "import time\n",
    "time.sleep(5)"
   ]
  },
  {
   "cell_type": "code",
   "execution_count": 38,
   "metadata": {},
   "outputs": [
    {
     "name": "stdout",
     "output_type": "stream",
     "text": [
      "http://astropedia.astrogeology.usgs.gov/download/Mars/Viking/syrtis_major_enhanced.tif/full.jpg\n"
     ]
    }
   ],
   "source": [
    "# get the full image link\n",
    "html = browser.html\n",
    "soup = bs(html, 'lxml')\n",
    "parent_div = soup.find('div', class_= 'downloads')\n",
    "link = parent_div.find('a')\n",
    "img_url3 = link['href']\n",
    "print(img_url3)"
   ]
  },
  {
   "cell_type": "code",
   "execution_count": 39,
   "metadata": {},
   "outputs": [
    {
     "name": "stdout",
     "output_type": "stream",
     "text": [
      "[{'title': 'Syrtis Major Hemisphere Enhanced', 'img_url': 'http://astropedia.astrogeology.usgs.gov/download/Mars/Viking/syrtis_major_enhanced.tif/full.jpg'}]\n"
     ]
    }
   ],
   "source": [
    "# save the image url for the full resolution hemisphere image and the Hemisphere title\n",
    "hemisphere_image_urls3 = [\n",
    "    {\"title\": hemisphere_title3, \"img_url\": img_url3}\n",
    "]\n",
    "print(hemisphere_image_urls3)"
   ]
  },
  {
   "cell_type": "code",
   "execution_count": 40,
   "metadata": {},
   "outputs": [],
   "source": [
    "# return to previous page \n",
    "xpath = '//*[@id=\"splashy\"]/div[1]/div[1]/div[3]/section/a'\n",
    "results = browser.find_by_xpath(xpath)\n",
    "button = results[0]\n",
    "button.click()\n",
    "import time\n",
    "time.sleep(5)"
   ]
  },
  {
   "cell_type": "code",
   "execution_count": 41,
   "metadata": {},
   "outputs": [],
   "source": [
    "# click on 4th hemisphere title\n",
    "xpath = '//*[@id=\"product-section\"]/div[2]/div[4]/div/a/h3'\n",
    "results = browser.find_by_xpath(xpath)\n",
    "img = results[0]\n",
    "img.click()\n",
    "import time\n",
    "time.sleep(5)"
   ]
  },
  {
   "cell_type": "code",
   "execution_count": 42,
   "metadata": {},
   "outputs": [
    {
     "name": "stdout",
     "output_type": "stream",
     "text": [
      "http://astropedia.astrogeology.usgs.gov/download/Mars/Viking/valles_marineris_enhanced.tif/full.jpg\n"
     ]
    }
   ],
   "source": [
    "# get the full image link\n",
    "html = browser.html\n",
    "soup = bs(html, 'lxml')\n",
    "parent_div = soup.find('div', class_= 'downloads')\n",
    "link = parent_div.find('a')\n",
    "img_url4 = link['href']\n",
    "print(img_url4)"
   ]
  },
  {
   "cell_type": "code",
   "execution_count": 43,
   "metadata": {},
   "outputs": [
    {
     "name": "stdout",
     "output_type": "stream",
     "text": [
      "[{'title': 'Valles Marineris Hemisphere Enhanced', 'img_url': 'http://astropedia.astrogeology.usgs.gov/download/Mars/Viking/valles_marineris_enhanced.tif/full.jpg'}]\n"
     ]
    }
   ],
   "source": [
    "# save the image url for the full resolution hemisphere image and the Hemisphere title\n",
    "hemisphere_image_urls4 = [\n",
    "    {\"title\": hemisphere_title4, \"img_url\": img_url4}\n",
    "]\n",
    "print(hemisphere_image_urls4)"
   ]
  },
  {
   "cell_type": "code",
   "execution_count": null,
   "metadata": {},
   "outputs": [],
   "source": []
  },
  {
   "cell_type": "code",
   "execution_count": null,
   "metadata": {},
   "outputs": [],
   "source": []
  }
 ],
 "metadata": {
  "kernelspec": {
   "display_name": "Python 3",
   "language": "python",
   "name": "python3"
  },
  "language_info": {
   "codemirror_mode": {
    "name": "ipython",
    "version": 3
   },
   "file_extension": ".py",
   "mimetype": "text/x-python",
   "name": "python",
   "nbconvert_exporter": "python",
   "pygments_lexer": "ipython3",
   "version": "3.6.5"
  }
 },
 "nbformat": 4,
 "nbformat_minor": 2
}
